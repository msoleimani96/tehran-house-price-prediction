{
 "cells": [
  {
   "cell_type": "markdown",
   "id": "a8301148-9c2f-4c90-9056-6409651d4dfe",
   "metadata": {},
   "source": [
    "#### Importing libraries"
   ]
  },
  {
   "cell_type": "code",
   "execution_count": 3,
   "id": "b2956cbe-61a9-4aed-88ca-d64e24db44f0",
   "metadata": {},
   "outputs": [],
   "source": [
    "import pandas as pd\n",
    "import numpy as np\n",
    "import matplotlib.pyplot as plt"
   ]
  },
  {
   "cell_type": "markdown",
   "id": "90edf6de-fe79-43df-ab2b-7729f33f1431",
   "metadata": {},
   "source": [
    "#### Loading data"
   ]
  },
  {
   "cell_type": "code",
   "execution_count": 86,
   "id": "d70a5cab-cf5a-4165-a432-243037386550",
   "metadata": {},
   "outputs": [
    {
     "data": {
      "text/html": [
       "<div>\n",
       "<style scoped>\n",
       "    .dataframe tbody tr th:only-of-type {\n",
       "        vertical-align: middle;\n",
       "    }\n",
       "\n",
       "    .dataframe tbody tr th {\n",
       "        vertical-align: top;\n",
       "    }\n",
       "\n",
       "    .dataframe thead th {\n",
       "        text-align: right;\n",
       "    }\n",
       "</style>\n",
       "<table border=\"1\" class=\"dataframe\">\n",
       "  <thead>\n",
       "    <tr style=\"text-align: right;\">\n",
       "      <th></th>\n",
       "      <th>Area</th>\n",
       "      <th>Room</th>\n",
       "      <th>Parking</th>\n",
       "      <th>Warehouse</th>\n",
       "      <th>Elevator</th>\n",
       "      <th>Address</th>\n",
       "      <th>Price</th>\n",
       "      <th>Price(USD)</th>\n",
       "    </tr>\n",
       "  </thead>\n",
       "  <tbody>\n",
       "    <tr>\n",
       "      <th>0</th>\n",
       "      <td>63</td>\n",
       "      <td>1</td>\n",
       "      <td>True</td>\n",
       "      <td>True</td>\n",
       "      <td>True</td>\n",
       "      <td>Shahran</td>\n",
       "      <td>1.850000e+09</td>\n",
       "      <td>61666.67</td>\n",
       "    </tr>\n",
       "    <tr>\n",
       "      <th>1</th>\n",
       "      <td>60</td>\n",
       "      <td>1</td>\n",
       "      <td>True</td>\n",
       "      <td>True</td>\n",
       "      <td>True</td>\n",
       "      <td>Shahran</td>\n",
       "      <td>1.850000e+09</td>\n",
       "      <td>61666.67</td>\n",
       "    </tr>\n",
       "    <tr>\n",
       "      <th>2</th>\n",
       "      <td>79</td>\n",
       "      <td>2</td>\n",
       "      <td>True</td>\n",
       "      <td>True</td>\n",
       "      <td>True</td>\n",
       "      <td>Pardis</td>\n",
       "      <td>5.500000e+08</td>\n",
       "      <td>18333.33</td>\n",
       "    </tr>\n",
       "    <tr>\n",
       "      <th>3</th>\n",
       "      <td>95</td>\n",
       "      <td>2</td>\n",
       "      <td>True</td>\n",
       "      <td>True</td>\n",
       "      <td>True</td>\n",
       "      <td>Shahrake Qods</td>\n",
       "      <td>9.025000e+08</td>\n",
       "      <td>30083.33</td>\n",
       "    </tr>\n",
       "    <tr>\n",
       "      <th>4</th>\n",
       "      <td>123</td>\n",
       "      <td>2</td>\n",
       "      <td>True</td>\n",
       "      <td>True</td>\n",
       "      <td>True</td>\n",
       "      <td>Shahrake Gharb</td>\n",
       "      <td>7.000000e+09</td>\n",
       "      <td>233333.33</td>\n",
       "    </tr>\n",
       "  </tbody>\n",
       "</table>\n",
       "</div>"
      ],
      "text/plain": [
       "  Area  Room  Parking  Warehouse  Elevator         Address         Price  \\\n",
       "0   63     1     True       True      True         Shahran  1.850000e+09   \n",
       "1   60     1     True       True      True         Shahran  1.850000e+09   \n",
       "2   79     2     True       True      True          Pardis  5.500000e+08   \n",
       "3   95     2     True       True      True   Shahrake Qods  9.025000e+08   \n",
       "4  123     2     True       True      True  Shahrake Gharb  7.000000e+09   \n",
       "\n",
       "   Price(USD)  \n",
       "0    61666.67  \n",
       "1    61666.67  \n",
       "2    18333.33  \n",
       "3    30083.33  \n",
       "4   233333.33  "
      ]
     },
     "execution_count": 86,
     "metadata": {},
     "output_type": "execute_result"
    }
   ],
   "source": [
    "df = pd.read_csv('house_price.csv')\n",
    "df.head()"
   ]
  },
  {
   "cell_type": "markdown",
   "id": "35d759b4-4e46-4fa3-b0d2-569da11e6d52",
   "metadata": {},
   "source": [
    "#### Remove missing data"
   ]
  },
  {
   "cell_type": "code",
   "execution_count": 87,
   "id": "ac397565-aaa3-41c8-9784-2b432c5ddb05",
   "metadata": {},
   "outputs": [],
   "source": [
    "df.dropna(axis=0, inplace=True)"
   ]
  },
  {
   "cell_type": "code",
   "execution_count": 88,
   "id": "408cec97-ffd0-4230-a662-913eeb4049d6",
   "metadata": {},
   "outputs": [],
   "source": [
    "area_column = df['Area']\n",
    "new_area_column = area_column.apply(lambda x: int(x.replace(',', '')))\n",
    "df['Area'] = new_area_column"
   ]
  },
  {
   "cell_type": "code",
   "execution_count": 89,
   "id": "d154e6a5-962c-4bd0-a717-d7aad4129714",
   "metadata": {},
   "outputs": [],
   "source": [
    "df.index = range(len(df))"
   ]
  },
  {
   "cell_type": "markdown",
   "id": "6c93348b-cebc-4288-bd15-ffd6892c8038",
   "metadata": {},
   "source": [
    "#### Data visualization"
   ]
  },
  {
   "cell_type": "code",
   "execution_count": 74,
   "id": "88192d76-5a33-4369-a4ac-41e67a278b3d",
   "metadata": {},
   "outputs": [
    {
     "data": {
      "image/png": "[encoded data removed]",
      "text/plain": [
       "<Figure size 640x480 with 1 Axes>"
      ]
     },
     "metadata": {},
     "output_type": "display_data"
    }
   ],
   "source": [
    "plt.scatter(df['Area'], df['Price'])\n",
    "plt.xlabel('Area')\n",
    "plt.ylabel('Price (Toman)')\n",
    "plt.show()"
   ]
  },
  {
   "cell_type": "markdown",
   "id": "53fcdcc3-b199-487e-99c2-89dff3754bb5",
   "metadata": {},
   "source": [
    "#### Removing incorrect/outlier data (Decided by the scatters above)"
   ]
  },
  {
   "cell_type": "code",
   "execution_count": 90,
   "id": "f71b8118-9334-4889-818b-3a14ca666388",
   "metadata": {},
   "outputs": [],
   "source": [
    "for i in df.index:\n",
    "    if df.loc[i, 'Area'] > 1500:\n",
    "        df.drop(index=i, inplace=True)"
   ]
  },
  {
   "cell_type": "markdown",
   "id": "7e9af040-529b-42e3-b5a4-5a94996c9c1b",
   "metadata": {},
   "source": [
    "##### Let's take another look at the scatter above"
   ]
  },
  {
   "cell_type": "code",
   "execution_count": 91,
   "id": "d97e022e-a856-491f-8f7f-797459fe135b",
   "metadata": {},
   "outputs": [
    {
     "data": {
      "image/png": "[encoded data removed]",
      "text/plain": [
       "<Figure size 640x480 with 1 Axes>"
      ]
     },
     "metadata": {},
     "output_type": "display_data"
    }
   ],
   "source": [
    "plt.scatter(df['Area'], df['Price'])\n",
    "plt.xlabel('Area')\n",
    "plt.ylabel('Price (Toman)')\n",
    "plt.show()"
   ]
  },
  {
   "cell_type": "markdown",
   "id": "5a351ea2-c29e-4a5f-a28f-751852c2fc33",
   "metadata": {},
   "source": [
    "#### Training our model"
   ]
  },
  {
   "cell_type": "markdown",
   "id": "0991bb6a-0a4f-445d-907d-0797e2546d8e",
   "metadata": {},
   "source": [
    "##### I choose area, room and address features for prediction. The reason is domain knowlage of real estate that almost everybody has."
   ]
  },
  {
   "cell_type": "code",
   "execution_count": 80,
   "id": "dc3eea8f-1c87-44ce-9d7d-a144acc4ddad",
   "metadata": {},
   "outputs": [],
   "source": [
    "from sklearn.model_selection import train_test_split \n",
    "from sklearn.linear_model import LinearRegression \n",
    "import json"
   ]
  },
  {
   "cell_type": "markdown",
   "id": "eb3e95df-4c1c-4e79-8b61-72e0b443e860",
   "metadata": {},
   "source": [
    "##### If you make no changes in dataset there is no need to run the cell below"
   ]
  },
  {
   "cell_type": "code",
   "execution_count": 81,
   "id": "2b139ca9-fc7c-4f29-8a7d-6c13de582089",
   "metadata": {},
   "outputs": [],
   "source": [
    "df_addresses_unique = df[['Address']].drop_duplicates()\n",
    "df_addresses_unique.index = range(len(df_addresses_unique))\n",
    "addresses_hard_data = {}\n",
    "for index, row in df_addresses_unique.iterrows():\n",
    "    addresses_hard_data[row['Address']] = index\n",
    "    \n",
    "with open('addresses_hard_data.json', 'w+') as f:\n",
    "    json.dump(addresses_hard_data, f)"
   ]
  },
  {
   "cell_type": "code",
   "execution_count": 82,
   "id": "576ad3db-1c27-42b8-a824-45eeaa92ec57",
   "metadata": {},
   "outputs": [],
   "source": [
    "with open('addresses_hard_data.json') as f:\n",
    "    data = json.load(f)\n",
    "df['Address'] = df['Address'].apply(lambda a: data[a])"
   ]
  },
  {
   "cell_type": "code",
   "execution_count": 83,
   "id": "52b7787f-bc63-4010-8219-93543bca9526",
   "metadata": {},
   "outputs": [],
   "source": [
    "x = df[['Area', 'Address', 'Room']]\n",
    "y = df[['Price']]"
   ]
  },
  {
   "cell_type": "code",
   "execution_count": 84,
   "id": "b4ad1b2b-4431-4660-b265-d521770b3a2f",
   "metadata": {},
   "outputs": [],
   "source": [
    "x_train, x_test, y_train, y_test = train_test_split(x, y, test_size=0.2)"
   ]
  }
 ],
 "metadata": {
  "kernelspec": {
   "display_name": "Python 3 (ipykernel)",
   "language": "python",
   "name": "python3"
  },
  "language_info": {
   "codemirror_mode": {
    "name": "ipython",
    "version": 3
   },
   "file_extension": ".py",
   "mimetype": "text/x-python",
   "name": "python",
   "nbconvert_exporter": "python",
   "pygments_lexer": "ipython3",
   "version": "3.12.4"
  }
 },
 "nbformat": 4,
 "nbformat_minor": 5
}
