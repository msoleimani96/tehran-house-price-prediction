{
 "cells": [
  {
   "cell_type": "markdown",
   "id": "a8301148-9c2f-4c90-9056-6409651d4dfe",
   "metadata": {},
   "source": [
    "#### Importing libraries"
   ]
  },
  {
   "cell_type": "code",
   "execution_count": 419,
   "id": "b2956cbe-61a9-4aed-88ca-d64e24db44f0",
   "metadata": {},
   "outputs": [],
   "source": [
    "import pandas as pd\n",
    "import numpy as np\n",
    "import matplotlib.pyplot as plt"
   ]
  },
  {
   "cell_type": "markdown",
   "id": "90edf6de-fe79-43df-ab2b-7729f33f1431",
   "metadata": {},
   "source": [
    "#### Loading data"
   ]
  },
  {
   "cell_type": "code",
   "execution_count": 421,
   "id": "d70a5cab-cf5a-4165-a432-243037386550",
   "metadata": {},
   "outputs": [
    {
     "data": {
      "text/html": [
       "<div>\n",
       "<style scoped>\n",
       "    .dataframe tbody tr th:only-of-type {\n",
       "        vertical-align: middle;\n",
       "    }\n",
       "\n",
       "    .dataframe tbody tr th {\n",
       "        vertical-align: top;\n",
       "    }\n",
       "\n",
       "    .dataframe thead th {\n",
       "        text-align: right;\n",
       "    }\n",
       "</style>\n",
       "<table border=\"1\" class=\"dataframe\">\n",
       "  <thead>\n",
       "    <tr style=\"text-align: right;\">\n",
       "      <th></th>\n",
       "      <th>Area</th>\n",
       "      <th>Room</th>\n",
       "      <th>Parking</th>\n",
       "      <th>Warehouse</th>\n",
       "      <th>Elevator</th>\n",
       "      <th>Address</th>\n",
       "      <th>Price</th>\n",
       "      <th>Price(USD)</th>\n",
       "    </tr>\n",
       "  </thead>\n",
       "  <tbody>\n",
       "    <tr>\n",
       "      <th>0</th>\n",
       "      <td>16160000000</td>\n",
       "      <td>3</td>\n",
       "      <td>True</td>\n",
       "      <td>True</td>\n",
       "      <td>True</td>\n",
       "      <td>Pasdaran</td>\n",
       "      <td>16160000000</td>\n",
       "      <td>538666.67</td>\n",
       "    </tr>\n",
       "    <tr>\n",
       "      <th>1</th>\n",
       "      <td>8400000000</td>\n",
       "      <td>2</td>\n",
       "      <td>True</td>\n",
       "      <td>True</td>\n",
       "      <td>True</td>\n",
       "      <td>Gheitarieh</td>\n",
       "      <td>8700000000</td>\n",
       "      <td>290000.00</td>\n",
       "    </tr>\n",
       "    <tr>\n",
       "      <th>2</th>\n",
       "      <td>3310000000</td>\n",
       "      <td>2</td>\n",
       "      <td>True</td>\n",
       "      <td>True</td>\n",
       "      <td>True</td>\n",
       "      <td>Ostad Moein</td>\n",
       "      <td>3310000000</td>\n",
       "      <td>110333.33</td>\n",
       "    </tr>\n",
       "    <tr>\n",
       "      <th>3</th>\n",
       "      <td>2550000000</td>\n",
       "      <td>2</td>\n",
       "      <td>True</td>\n",
       "      <td>True</td>\n",
       "      <td>True</td>\n",
       "      <td>Central Janatabad</td>\n",
       "      <td>2550000000</td>\n",
       "      <td>85000.00</td>\n",
       "    </tr>\n",
       "    <tr>\n",
       "      <th>4</th>\n",
       "      <td>3600</td>\n",
       "      <td>2</td>\n",
       "      <td>False</td>\n",
       "      <td>False</td>\n",
       "      <td>False</td>\n",
       "      <td>Shahryar</td>\n",
       "      <td>9720000000</td>\n",
       "      <td>324000.00</td>\n",
       "    </tr>\n",
       "  </tbody>\n",
       "</table>\n",
       "</div>"
      ],
      "text/plain": [
       "          Area  Room  Parking  Warehouse  Elevator            Address  \\\n",
       "0  16160000000     3     True       True      True           Pasdaran   \n",
       "1   8400000000     2     True       True      True         Gheitarieh   \n",
       "2   3310000000     2     True       True      True        Ostad Moein   \n",
       "3   2550000000     2     True       True      True  Central Janatabad   \n",
       "4         3600     2    False      False     False           Shahryar   \n",
       "\n",
       "         Price  Price(USD)  \n",
       "0  16160000000   538666.67  \n",
       "1   8700000000   290000.00  \n",
       "2   3310000000   110333.33  \n",
       "3   2550000000    85000.00  \n",
       "4   9720000000   324000.00  "
      ]
     },
     "execution_count": 421,
     "metadata": {},
     "output_type": "execute_result"
    }
   ],
   "source": [
    "df = pd.read_csv('house_price.csv')\n",
    "df.head()"
   ]
  },
  {
   "cell_type": "markdown",
   "id": "35d759b4-4e46-4fa3-b0d2-569da11e6d52",
   "metadata": {},
   "source": [
    "#### Remove missing data"
   ]
  },
  {
   "cell_type": "code",
   "execution_count": 422,
   "id": "ac397565-aaa3-41c8-9784-2b432c5ddb05",
   "metadata": {},
   "outputs": [],
   "source": [
    "df.dropna(axis=0, inplace=True)"
   ]
  },
  {
   "cell_type": "code",
   "execution_count": 423,
   "id": "d154e6a5-962c-4bd0-a717-d7aad4129714",
   "metadata": {},
   "outputs": [],
   "source": [
    "df.index = range(len(df))"
   ]
  },
  {
   "cell_type": "markdown",
   "id": "6c93348b-cebc-4288-bd15-ffd6892c8038",
   "metadata": {},
   "source": [
    "#### Data visualization"
   ]
  },
  {
   "cell_type": "code",
   "execution_count": 424,
   "id": "88192d76-5a33-4369-a4ac-41e67a278b3d",
   "metadata": {},
   "outputs": [
    {
     "data": {
      "image/png": "[encoded data removed]",
      "text/plain": [
       "<Figure size 640x480 with 1 Axes>"
      ]
     },
     "metadata": {},
     "output_type": "display_data"
    }
   ],
   "source": [
    "plt.scatter(df['Area'], df['Price'])\n",
    "plt.xlabel('Area')\n",
    "plt.ylabel('Price (Toman)')\n",
    "plt.show()"
   ]
  },
  {
   "cell_type": "markdown",
   "id": "53fcdcc3-b199-487e-99c2-89dff3754bb5",
   "metadata": {},
   "source": [
    "#### Removing incorrect/outlier data (Decided by the scatters above)"
   ]
  },
  {
   "cell_type": "code",
   "execution_count": 425,
   "id": "f71b8118-9334-4889-818b-3a14ca666388",
   "metadata": {},
   "outputs": [],
   "source": [
    "for i in df.index:\n",
    "    if df.loc[i, 'Area'] > 1500:\n",
    "        df.drop(index=i, inplace=True)"
   ]
  },
  {
   "cell_type": "markdown",
   "id": "7e9af040-529b-42e3-b5a4-5a94996c9c1b",
   "metadata": {},
   "source": [
    "##### Let's take another look at the scatter above"
   ]
  },
  {
   "cell_type": "code",
   "execution_count": 426,
   "id": "d97e022e-a856-491f-8f7f-797459fe135b",
   "metadata": {},
   "outputs": [
    {
     "data": {
      "image/png": "[encoded data removed]",
      "text/plain": [
       "<Figure size 640x480 with 1 Axes>"
      ]
     },
     "metadata": {},
     "output_type": "display_data"
    }
   ],
   "source": [
    "plt.scatter(df['Area'], df['Price'])\n",
    "plt.xlabel('Area')\n",
    "plt.ylabel('Price (Toman)')\n",
    "plt.show()"
   ]
  },
  {
   "cell_type": "markdown",
   "id": "5a351ea2-c29e-4a5f-a28f-751852c2fc33",
   "metadata": {},
   "source": [
    "#### Training our model"
   ]
  },
  {
   "cell_type": "markdown",
   "id": "0991bb6a-0a4f-445d-907d-0797e2546d8e",
   "metadata": {},
   "source": [
    "##### I choose area and room features for prediction. The reason is domain knowlage of real estate that almost everybody has."
   ]
  },
  {
   "cell_type": "code",
   "execution_count": 510,
   "id": "dc3eea8f-1c87-44ce-9d7d-a144acc4ddad",
   "metadata": {},
   "outputs": [],
   "source": [
    "from sklearn.model_selection import train_test_split \n",
    "from sklearn.linear_model import LinearRegression"
   ]
  },
  {
   "cell_type": "code",
   "execution_count": 428,
   "id": "52b7787f-bc63-4010-8219-93543bca9526",
   "metadata": {},
   "outputs": [],
   "source": [
    "x = df[['Area', 'Room']]\n",
    "y = df[['Price']]"
   ]
  },
  {
   "cell_type": "markdown",
   "id": "69a09965-dca8-4849-a0b3-5f52a88a9c88",
   "metadata": {},
   "source": [
    "##### Splitting into train and test"
   ]
  },
  {
   "cell_type": "code",
   "execution_count": 537,
   "id": "b4ad1b2b-4431-4660-b265-d521770b3a2f",
   "metadata": {},
   "outputs": [],
   "source": [
    "x_train, x_test, y_train, y_test = train_test_split(x, y, test_size=0.25)"
   ]
  },
  {
   "cell_type": "code",
   "execution_count": 538,
   "id": "123b0e57-7e9b-4e2b-8fcc-53053dc989b7",
   "metadata": {
    "scrolled": true
   },
   "outputs": [
    {
     "name": "stdout",
     "output_type": "stream",
     "text": [
      "Score: 0.7115006790849492\n"
     ]
    }
   ],
   "source": [
    "reg = LinearRegression()\n",
    "reg.fit(x_train, y_train)\n",
    "score = reg.score(x_test, y_test)\n",
    "print(f\"Score: {score}\")"
   ]
  }
 ],
 "metadata": {
  "kernelspec": {
   "display_name": "Python 3 (ipykernel)",
   "language": "python",
   "name": "python3"
  },
  "language_info": {
   "codemirror_mode": {
    "name": "ipython",
    "version": 3
   },
   "file_extension": ".py",
   "mimetype": "text/x-python",
   "name": "python",
   "nbconvert_exporter": "python",
   "pygments_lexer": "ipython3",
   "version": "3.12.4"
  }
 },
 "nbformat": 4,
 "nbformat_minor": 5
}
